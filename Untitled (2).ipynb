{
 "cells": [
  {
   "cell_type": "code",
   "execution_count": 3,
   "id": "28216e5e-157a-4595-afde-754738eb465b",
   "metadata": {},
   "outputs": [
    {
     "name": "stdout",
     "output_type": "stream",
     "text": [
      "OUTPUT OF THE PROGRAM -->\n",
      "[1, 3, 5, 7, 9, 11, 13, 15, 17, 19, 21, 23, 25]\n"
     ]
    }
   ],
   "source": [
    "#        Q1. Which keyword is used to create a function? Create a function to return a list of odd numbers in the\n",
    "#            range of 1 to 25.\n",
    "\n",
    "#        ANSWER -->\n",
    "\n",
    "#        def keyword is used to create or define a function. It is used before the function name of a user defined function\n",
    "#        Creating a function to return a list of odd numbers in the range of 1 to 25\n",
    "\n",
    "print(\"OUTPUT OF THE PROGRAM -->\")\n",
    "l=[]\n",
    "def od():\n",
    "    for i in range(1,26) :\n",
    "        if i%2 != 0 :\n",
    "            l.append(i)\n",
    "    return l\n",
    "print(od())"
   ]
  },
  {
   "cell_type": "code",
   "execution_count": 6,
   "id": "5e9fefaa-f957-4d74-9159-3c62e2abc5ea",
   "metadata": {},
   "outputs": [
    {
     "name": "stdout",
     "output_type": "stream",
     "text": [
      "OUTPUT 1 -->\n",
      "Sum: 8\n",
      "Sum: 22\n",
      "Sum: 17\n",
      "OUTPUT -->\n",
      "\n",
      "Data type of argument: <class 'dict'>\n",
      "Firstname is Sita\n",
      "Lastname is Sharma\n",
      "Age is 22\n",
      "Phone is 1234567890\n",
      "\n",
      "Data type of argument: <class 'dict'>\n",
      "Firstname is John\n",
      "Lastname is Wood\n",
      "Email is johnwood@nomail.com\n",
      "Country is Wakanda\n",
      "Age is 25\n",
      "Phone is 9876543210\n"
     ]
    }
   ],
   "source": [
    "#           Q2. Why *args and **kwargs is used in some functions? Create a function each for *args and **kwargs\n",
    "#               to demonstrate their use.\n",
    "\n",
    "#           ANSWER-->\n",
    "\n",
    "\n",
    "\n",
    "#           We use *args and **kwargs as an argument when we are unsure about the number of arguments to pass in the functions.          \n",
    "\n",
    "#           we should use an asterisk * before the parameter name to pass variable length arguments.The arguments are passed \n",
    "#           as a tuple and these passed arguments make tuple inside the function with same name as the parameter excluding \n",
    "#           asterisk *.\n",
    "#           For Example :\n",
    "print(\"OUTPUT 1 -->\")\n",
    "def adder(*num):\n",
    "    sum = 0\n",
    "    \n",
    "    for n in num:\n",
    "        sum = sum + n\n",
    "\n",
    "    print(\"Sum:\",sum)\n",
    "\n",
    "adder(3,5)\n",
    "adder(4,5,6,7)\n",
    "adder(1,2,3,5,6)\n",
    "\n",
    "#           we use the double asterisk ** before the parameter name to denote this type of argument. The arguments are passed\n",
    "#            as a dictionary and these arguments make a dictionary inside function with name same as the parameter excluding \n",
    "#            double asterisk **.\n",
    "#            For Example -->\n",
    "print(\"OUTPUT -->\")\n",
    "def intro(**data):\n",
    "    print(\"\\nData type of argument:\",type(data))\n",
    "\n",
    "    for key, value in data.items():\n",
    "        print(\"{} is {}\".format(key,value))\n",
    "\n",
    "intro(Firstname=\"Sita\", Lastname=\"Sharma\", Age=22, Phone=1234567890)\n",
    "intro(Firstname=\"John\", Lastname=\"Wood\", Email=\"johnwood@nomail.com\", Country=\"Wakanda\", Age=25, Phone=9876543210)"
   ]
  },
  {
   "cell_type": "code",
   "execution_count": 8,
   "id": "e734d771-d442-430b-9ebf-e62a9cb9f612",
   "metadata": {},
   "outputs": [
    {
     "name": "stdout",
     "output_type": "stream",
     "text": [
      "first 5 elements of the given list -->\n",
      "2\n",
      "4\n",
      "6\n",
      "8\n",
      "10\n"
     ]
    }
   ],
   "source": [
    "#         Q3. What is an iterator in python? Name the method used to initialise the iterator object and the method\n",
    "#         used for iteration. Use these methods to print the first five elements of the given list [2, 4, 6, 8, 10, 12, 14,\n",
    "#         16, 18, 20].\n",
    "\n",
    "#         ANSWER -->\n",
    "\n",
    "#         Iterators are methods that iterate collections like lists, tuples, etc. Using an iterator method, we can loop \n",
    "#          through an object and return its elements.\n",
    "\n",
    "#          Technically, a Python iterator object must implement two special methods, __iter__() and __next__(), collectively \n",
    "#          called the iterator protocol.\n",
    "#          Program to print first 5 elements of the given list -->\n",
    "print(\"first 5 elements of the given list -->\")\n",
    "l=[2,4,6,8,10,12,14,16,18,20]\n",
    "it = iter(l)\n",
    "i=1\n",
    "while(i<=5):\n",
    "    print(next(it)) #-----------------\n",
    "    i=i+1"
   ]
  },
  {
   "cell_type": "code",
   "execution_count": 15,
   "id": "6d6ac253-efb7-4a2b-8210-a69b49aa0a6d",
   "metadata": {},
   "outputs": [
    {
     "name": "stdout",
     "output_type": "stream",
     "text": [
      "First 10 natural numbers are -->\n",
      "1\n",
      "2\n",
      "3\n",
      "4\n",
      "5\n",
      "6\n",
      "7\n",
      "8\n",
      "9\n",
      "10\n"
     ]
    }
   ],
   "source": [
    "#             Q4. What is a generator function in python? Why yield keyword is used? Give an example of a generator\n",
    "#             function.\n",
    "\n",
    "#             ANSWER-->\n",
    "\n",
    "#             In Python, a generator is a function that returns an iterator that produces a sequence of values when \n",
    "#             iterated over.\n",
    "\n",
    "#             Generators are useful when we want to produce a large sequence of values, but we don't want to store \n",
    "#             all of them in memory at once.\n",
    "\n",
    "#             For Example-->\n",
    "print(\"First 10 natural numbers are -->\")\n",
    "def gen(n):\n",
    "    a=1\n",
    "    while a<=n :\n",
    "        yield a\n",
    "        a += 1\n",
    "for i in gen(10):\n",
    "    print (i)"
   ]
  },
  {
   "cell_type": "code",
   "execution_count": 4,
   "id": "b4c149e5-6622-4c45-b923-15eb9ea0fdbd",
   "metadata": {},
   "outputs": [
    {
     "name": "stdout",
     "output_type": "stream",
     "text": [
      "2\n",
      "3\n",
      "5\n",
      "7\n",
      "11\n",
      "13\n",
      "17\n",
      "19\n",
      "23\n",
      "29\n",
      "31\n",
      "37\n",
      "41\n",
      "43\n",
      "47\n",
      "53\n",
      "59\n",
      "61\n",
      "67\n",
      "71\n"
     ]
    }
   ],
   "source": [
    "#          Q5. Create a generator function for prime numbers less than 1000. Use the next() method to print the\n",
    "#              first 20 prime numbers.\n",
    "\n",
    "#          ANSWER -->\n",
    "\n",
    "def gen_pr (n):\n",
    "    for p in range(2,n+1):\n",
    "        for i in range(2,int(p*0.5)+1):\n",
    "            if p%i == 0 :\n",
    "                break\n",
    "        else :\n",
    "                yield p\n",
    "s=gen_pr(1000)\n",
    "for x in range(20):\n",
    "    print(next(s))\n"
   ]
  },
  {
   "cell_type": "code",
   "execution_count": 6,
   "id": "73a54171-f70e-46c7-9b5a-b3e49f96ef81",
   "metadata": {},
   "outputs": [
    {
     "name": "stdout",
     "output_type": "stream",
     "text": [
      "OUTPUT1:-\n",
      "0\n",
      "1\n",
      "1\n",
      "2\n",
      "3\n",
      "5\n",
      "8\n",
      "13\n",
      "21\n",
      "34\n"
     ]
    }
   ],
   "source": [
    "#   Q6. Write a python program to print the first 10 Fibonacci numbers using a while loop.\n",
    " \n",
    "#   ANSWER -->    \n",
    "\n",
    "print(\"OUTPUT1:-\")\n",
    "a,b=0,1\n",
    "i=1\n",
    "while i <=10 :\n",
    "    print(a)\n",
    "    a,b=b,a+b\n",
    "    i+=1\n"
   ]
  },
  {
   "cell_type": "code",
   "execution_count": 7,
   "id": "06a28e05-798e-4504-bde9-c97515e485fe",
   "metadata": {},
   "outputs": [
    {
     "data": {
      "text/plain": [
       "['p', 'w', 's', 'k', 'i', 'l', 'l', 's']"
      ]
     },
     "execution_count": 7,
     "metadata": {},
     "output_type": "execute_result"
    }
   ],
   "source": [
    "#        Q7. Write a List Comprehension to iterate through the given string: ‘pwskills’.\n",
    "#        Expected output: ['p', 'w', 's', 'k', 'i', 'l', 'l', 's']\n",
    "\n",
    "#        ANSWER-->\n",
    "letters=list(map(lambda x : x,'pwskills'))\n",
    "letters"
   ]
  },
  {
   "cell_type": "code",
   "execution_count": 12,
   "id": "f2db7036-ef73-4667-8382-73c5d02f542d",
   "metadata": {},
   "outputs": [
    {
     "name": "stdin",
     "output_type": "stream",
     "text": [
      "Enter the number 16461\n"
     ]
    },
    {
     "name": "stdout",
     "output_type": "stream",
     "text": [
      "16461 is a pallindromic number\n"
     ]
    }
   ],
   "source": [
    "#        Q8. Write a python program to check whether a given number is Palindrome or not using a while loop.\n",
    "\n",
    "\n",
    "#        ANSWER-->\n",
    "n = int(input(\"Enter the number\"))\n",
    "rev=0\n",
    "actual=n\n",
    "while n!=0:\n",
    "    rem=n%10\n",
    "    rev=(rev*10)+rem\n",
    "    n=n//10\n",
    "if rev == actual:\n",
    "    print(actual,'is a pallindromic number')\n",
    "else:\n",
    "    print(actual,'is not a pallindromic number')"
   ]
  },
  {
   "cell_type": "code",
   "execution_count": 23,
   "id": "dcaad954-a7d1-4021-92c5-129d1ec3ca6f",
   "metadata": {},
   "outputs": [
    {
     "name": "stdout",
     "output_type": "stream",
     "text": [
      "[1, 3, 5, 7, 9, 11, 13, 15, 17, 19, 21, 23, 25, 27, 29, 31, 33, 35, 37, 39, 41, 43, 45, 47, 49, 51, 53, 55, 57, 59, 61, 63, 65, 67, 69, 71, 73, 75, 77, 79, 81, 83, 85, 87, 89, 91, 93, 95, 97, 99]\n"
     ]
    }
   ],
   "source": [
    "#          Q9. Write a code to print odd numbers from 1 to 100 using list comprehension.\n",
    "\n",
    "\n",
    "#          ANSWER-->\n",
    "\n",
    "\n",
    "l=list(x for x in range(1,))"
   ]
  },
  {
   "cell_type": "code",
   "execution_count": null,
   "id": "65fb30d9-42da-48e2-8433-bcce41623851",
   "metadata": {},
   "outputs": [],
   "source": []
  }
 ],
 "metadata": {
  "kernelspec": {
   "display_name": "Python 3 (ipykernel)",
   "language": "python",
   "name": "python3"
  },
  "language_info": {
   "codemirror_mode": {
    "name": "ipython",
    "version": 3
   },
   "file_extension": ".py",
   "mimetype": "text/x-python",
   "name": "python",
   "nbconvert_exporter": "python",
   "pygments_lexer": "ipython3",
   "version": "3.10.8"
  }
 },
 "nbformat": 4,
 "nbformat_minor": 5
}
